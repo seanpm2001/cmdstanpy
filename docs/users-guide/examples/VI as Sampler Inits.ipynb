{
 "cells": [
  {
   "cell_type": "markdown",
   "metadata": {},
   "source": [
    "## Using Variational Estimates to Initialize the NUTS-HMC Sampler\n",
    "\n",
    "In this example we show how to use the parameter estimates return by Stan's variational inference algorithm\n",
    "as the initial parameter values for Stan's NUTS-HMC sampler.\n",
    "By default, the sampler algorithm randomly initializes all model parameters in the range uniform\\[-2, 2\\].  When the true parameter value is outside of this range, starting from the ADVI estimates will speed up and improve adaptation.\n",
    "\n",
    "### Model and data\n",
    "\n",
    "The Stan model and data are taken from the [posteriordb package](https://github.com/stan-dev/posteriordb).\n",
    "\n",
    "We use the [blr model](https://github.com/stan-dev/posteriordb/blob/master/posterior_database/models/stan/blr.stan),\n",
    "a Bayesian standard linear regression model with noninformative priors,\n",
    "and its corresponding simulated dataset [sblri.json](https://github.com/stan-dev/posteriordb/blob/master/posterior_database/data/data/sblri.json.zip),\n",
    "which was simulated via script [sblr.R](https://github.com/stan-dev/posteriordb/blob/master/posterior_database/data/data-raw/sblr/sblr.R).\n",
    "For conveince, we have copied the posteriordb model and data to this directory, in files `blr.stan` and `sblri.json`."
   ]
  },
  {
   "cell_type": "code",
   "execution_count": 1,
   "metadata": {
    "execution": {
     "iopub.execute_input": "2022-10-25T13:59:58.899187Z",
     "iopub.status.busy": "2022-10-25T13:59:58.898601Z",
     "iopub.status.idle": "2022-10-25T14:00:14.019616Z",
     "shell.execute_reply": "2022-10-25T14:00:14.018504Z"
    }
   },
   "outputs": [
    {
     "name": "stderr",
     "output_type": "stream",
     "text": [
      "/opt/hostedtoolcache/Python/3.9.15/x64/lib/python3.9/site-packages/tqdm/auto.py:22: TqdmWarning: IProgress not found. Please update jupyter and ipywidgets. See https://ipywidgets.readthedocs.io/en/stable/user_install.html\n",
      "  from .autonotebook import tqdm as notebook_tqdm\n"
     ]
    },
    {
     "name": "stderr",
     "output_type": "stream",
     "text": [
      "13:59:59 - cmdstanpy - INFO - compiling stan file /home/runner/work/cmdstanpy/cmdstanpy/docsrc/users-guide/examples/blr.stan to exe file /home/runner/work/cmdstanpy/cmdstanpy/docsrc/users-guide/examples/blr\n"
     ]
    },
    {
     "name": "stderr",
     "output_type": "stream",
     "text": [
      "14:00:14 - cmdstanpy - INFO - compiled model executable: /home/runner/work/cmdstanpy/cmdstanpy/docsrc/users-guide/examples/blr\n"
     ]
    },
    {
     "name": "stdout",
     "output_type": "stream",
     "text": [
      "data {\n",
      "  int<lower=0> N;\n",
      "  int<lower=0> D;\n",
      "  matrix[N, D] X;\n",
      "  vector[N] y;\n",
      "}\n",
      "parameters {\n",
      "  vector[D] beta;\n",
      "  real<lower=0> sigma;\n",
      "}\n",
      "model {\n",
      "  // prior\n",
      "  target += normal_lpdf(beta | 0, 10);\n",
      "  target += normal_lpdf(sigma | 0, 10);\n",
      "  // likelihood\n",
      "  target += normal_lpdf(y | X * beta, sigma);\n",
      "}\n",
      "\n",
      "\n"
     ]
    }
   ],
   "source": [
    "import os\n",
    "from cmdstanpy import CmdStanModel\n",
    "\n",
    "stan_file = 'blr.stan' # basic linear regression\n",
    "data_file = 'sblri.json' # simulated data\n",
    "\n",
    "model = CmdStanModel(stan_file=stan_file)\n",
    "\n",
    "print(model.code())"
   ]
  },
  {
   "cell_type": "markdown",
   "metadata": {},
   "source": [
    "### Run Stan's variational inference algorithm, obtain fitted estimates\n",
    "\n",
    "The `CmdStanModel` method `variational` runs CmdStan's ADVI algorithm.\n",
    "Because this algorithm is unstable and may fail to converge, we run it with argument `require_converged` set to `False`.  We also specify a seed, to avoid instabilities as well as for reproducibility."
   ]
  },
  {
   "cell_type": "code",
   "execution_count": 2,
   "metadata": {
    "execution": {
     "iopub.execute_input": "2022-10-25T14:00:14.024801Z",
     "iopub.status.busy": "2022-10-25T14:00:14.024476Z",
     "iopub.status.idle": "2022-10-25T14:00:14.160076Z",
     "shell.execute_reply": "2022-10-25T14:00:14.158979Z"
    }
   },
   "outputs": [
    {
     "name": "stderr",
     "output_type": "stream",
     "text": [
      "14:00:14 - cmdstanpy - INFO - Chain [1] start processing\n"
     ]
    },
    {
     "name": "stderr",
     "output_type": "stream",
     "text": [
      "14:00:14 - cmdstanpy - INFO - Chain [1] done processing\n"
     ]
    },
    {
     "name": "stderr",
     "output_type": "stream",
     "text": [
      "14:00:14 - cmdstanpy - WARNING - The algorithm may not have converged.\n",
      "Proceeding because require_converged is set to False\n"
     ]
    }
   ],
   "source": [
    "vb_fit = model.variational(data=data_file, require_converged=False, seed=123)"
   ]
  },
  {
   "cell_type": "markdown",
   "metadata": {},
   "source": [
    "The ADVI algorithm provides estimates of all model parameters.\n",
    "\n",
    "The `variational` method returns a `CmdStanVB` object, with method `stan_variables`, which\n",
    "returns the approximate estimates of all model parameters as a Python dictionary."
   ]
  },
  {
   "cell_type": "code",
   "execution_count": 3,
   "metadata": {
    "execution": {
     "iopub.execute_input": "2022-10-25T14:00:14.164922Z",
     "iopub.status.busy": "2022-10-25T14:00:14.164397Z",
     "iopub.status.idle": "2022-10-25T14:00:14.170419Z",
     "shell.execute_reply": "2022-10-25T14:00:14.169454Z"
    }
   },
   "outputs": [
    {
     "name": "stdout",
     "output_type": "stream",
     "text": [
      "{'beta': array([0.997115, 0.993865, 0.991472, 0.993601, 1.0095  ]), 'sigma': 1.67}\n"
     ]
    }
   ],
   "source": [
    "print(vb_fit.stan_variables())"
   ]
  },
  {
   "cell_type": "markdown",
   "metadata": {},
   "source": [
    "Posteriordb provides reference posteriors for all models.  For the blr model, conditioned on the dataset `sblri.json`, the reference posteriors are in file [sblri-blr.json](https://github.com/stan-dev/posteriordb/blob/master/posterior_database/reference_posteriors/summary_statistics/mean/mean/sblri-blr.json)\n",
    "\n",
    "The reference posteriors for all elements of `beta` and `sigma` are all very close to $1.0$.\n",
    "\n",
    "The experiments reported in the paper [Pathfinder: Parallel quasi-Newton variational inference](https://arxiv.org/abs/2108.03782) by Zhang et al. show that mean-field ADVI provides a better estimate of the posterior, as measured by the 1-Wasserstein distance to the reference posterior, than 75 iterations of the warmup Phase I algorithm used by the NUTS-HMC sampler, furthermore, ADVI is more computationally efficient, requiring fewer evaluations of the log density and gradient functions.  Therefore, using the estimates from ADVI to initialize the parameter values for the NUTS-HMC sampler will allow the sampler to do a better job of adapting the stepsize and metric during warmup, resulting in better performance and estimation.\n"
   ]
  },
  {
   "cell_type": "code",
   "execution_count": 4,
   "metadata": {
    "execution": {
     "iopub.execute_input": "2022-10-25T14:00:14.176101Z",
     "iopub.status.busy": "2022-10-25T14:00:14.175802Z",
     "iopub.status.idle": "2022-10-25T14:00:14.596086Z",
     "shell.execute_reply": "2022-10-25T14:00:14.594971Z"
    }
   },
   "outputs": [
    {
     "name": "stderr",
     "output_type": "stream",
     "text": [
      "14:00:14 - cmdstanpy - INFO - CmdStan start processing\n"
     ]
    },
    {
     "name": "stderr",
     "output_type": "stream",
     "text": [
      "\r",
      "chain 1 |\u001b[33m          \u001b[0m| 00:00 Status"
     ]
    },
    {
     "name": "stderr",
     "output_type": "stream",
     "text": [
      "\n"
     ]
    },
    {
     "name": "stderr",
     "output_type": "stream",
     "text": [
      "\r",
      "chain 2 |\u001b[33m          \u001b[0m| 00:00 Status"
     ]
    },
    {
     "name": "stderr",
     "output_type": "stream",
     "text": [
      "\u001b[A"
     ]
    },
    {
     "name": "stderr",
     "output_type": "stream",
     "text": [
      "\n",
      "\n"
     ]
    },
    {
     "name": "stderr",
     "output_type": "stream",
     "text": [
      "\r",
      "chain 3 |\u001b[33m          \u001b[0m| 00:00 Status"
     ]
    },
    {
     "name": "stderr",
     "output_type": "stream",
     "text": [
      "\u001b[A\u001b[A"
     ]
    },
    {
     "name": "stderr",
     "output_type": "stream",
     "text": [
      "\n",
      "\n",
      "\n"
     ]
    },
    {
     "name": "stderr",
     "output_type": "stream",
     "text": [
      "\r",
      "chain 4 |\u001b[33m          \u001b[0m| 00:00 Status"
     ]
    },
    {
     "name": "stderr",
     "output_type": "stream",
     "text": [
      "\u001b[A\u001b[A\u001b[A"
     ]
    },
    {
     "name": "stderr",
     "output_type": "stream",
     "text": [
      "\r",
      "chain 1 |\u001b[34m██████▋   \u001b[0m| 00:00 Iteration:  575 / 1075 [ 53%]  (Sampling)"
     ]
    },
    {
     "name": "stderr",
     "output_type": "stream",
     "text": [
      "\n"
     ]
    },
    {
     "name": "stderr",
     "output_type": "stream",
     "text": [
      "\r",
      "chain 2 |\u001b[34m██████▋   \u001b[0m| 00:00 Iteration:  575 / 1075 [ 53%]  (Sampling)"
     ]
    },
    {
     "name": "stderr",
     "output_type": "stream",
     "text": [
      "\u001b[A"
     ]
    },
    {
     "name": "stderr",
     "output_type": "stream",
     "text": [
      "\n",
      "\n"
     ]
    },
    {
     "name": "stderr",
     "output_type": "stream",
     "text": [
      "\r",
      "chain 3 |\u001b[33m▊         \u001b[0m| 00:00 Status"
     ]
    },
    {
     "name": "stderr",
     "output_type": "stream",
     "text": [
      "\u001b[A\u001b[A"
     ]
    },
    {
     "name": "stderr",
     "output_type": "stream",
     "text": [
      "\n",
      "\n",
      "\n"
     ]
    },
    {
     "name": "stderr",
     "output_type": "stream",
     "text": [
      "\r",
      "chain 4 |\u001b[33m▊         \u001b[0m| 00:00 Status"
     ]
    },
    {
     "name": "stderr",
     "output_type": "stream",
     "text": [
      "\u001b[A\u001b[A\u001b[A"
     ]
    },
    {
     "name": "stderr",
     "output_type": "stream",
     "text": [
      "\n",
      "\n"
     ]
    },
    {
     "name": "stderr",
     "output_type": "stream",
     "text": [
      "\r",
      "chain 3 |\u001b[34m███████▌  \u001b[0m| 00:00 Iteration:  675 / 1075 [ 62%]  (Sampling)"
     ]
    },
    {
     "name": "stderr",
     "output_type": "stream",
     "text": [
      "\u001b[A\u001b[A"
     ]
    },
    {
     "name": "stderr",
     "output_type": "stream",
     "text": [
      "\n",
      "\n",
      "\n"
     ]
    },
    {
     "name": "stderr",
     "output_type": "stream",
     "text": [
      "\r",
      "chain 4 |\u001b[34m███████▌  \u001b[0m| 00:00 Iteration:  675 / 1075 [ 62%]  (Sampling)"
     ]
    },
    {
     "name": "stderr",
     "output_type": "stream",
     "text": [
      "\u001b[A\u001b[A\u001b[A"
     ]
    },
    {
     "name": "stderr",
     "output_type": "stream",
     "text": [
      "\r",
      "chain 1 |\u001b[34m██████████\u001b[0m| 00:00 Sampling completed                       "
     ]
    },
    {
     "name": "stderr",
     "output_type": "stream",
     "text": [
      "\n",
      "\r",
      "chain 2 |\u001b[34m██████████\u001b[0m| 00:00 Sampling completed                       "
     ]
    },
    {
     "name": "stderr",
     "output_type": "stream",
     "text": [
      "\n",
      "\r",
      "chain 3 |\u001b[34m██████████\u001b[0m| 00:00 Sampling completed                       "
     ]
    },
    {
     "name": "stderr",
     "output_type": "stream",
     "text": [
      "\n",
      "\r",
      "chain 4 |\u001b[34m██████████\u001b[0m| 00:00 Sampling completed                       "
     ]
    },
    {
     "name": "stdout",
     "output_type": "stream",
     "text": [
      "                                                                                "
     ]
    },
    {
     "name": "stdout",
     "output_type": "stream",
     "text": [
      "                                                                                "
     ]
    },
    {
     "name": "stdout",
     "output_type": "stream",
     "text": [
      "                                                                                "
     ]
    },
    {
     "name": "stdout",
     "output_type": "stream",
     "text": [
      "                                                                                "
     ]
    },
    {
     "name": "stderr",
     "output_type": "stream",
     "text": [
      "\n",
      "14:00:14 - cmdstanpy - INFO - CmdStan done processing.\n"
     ]
    },
    {
     "name": "stderr",
     "output_type": "stream",
     "text": [
      "14:00:14 - cmdstanpy - WARNING - Non-fatal error during sampling:\n",
      "Exception: normal_lpdf: Scale parameter is 0, but must be positive! (in '/home/runner/work/cmdstanpy/cmdstanpy/docsrc/users-guide/examples/blr.stan', line 16, column 2 to column 45)\n",
      "Exception: normal_lpdf: Scale parameter is 0, but must be positive! (in '/home/runner/work/cmdstanpy/cmdstanpy/docsrc/users-guide/examples/blr.stan', line 16, column 2 to column 45)\n",
      "Exception: normal_lpdf: Scale parameter is 0, but must be positive! (in '/home/runner/work/cmdstanpy/cmdstanpy/docsrc/users-guide/examples/blr.stan', line 16, column 2 to column 45)\n",
      "Exception: normal_lpdf: Scale parameter is 0, but must be positive! (in '/home/runner/work/cmdstanpy/cmdstanpy/docsrc/users-guide/examples/blr.stan', line 16, column 2 to column 45)\n",
      "Consider re-running with show_console=True if the above output is unclear!\n"
     ]
    },
    {
     "name": "stdout",
     "output_type": "stream",
     "text": [
      "\n"
     ]
    }
   ],
   "source": [
    "vb_vars = vb_fit.stan_variables()\n",
    "mcmc_vb_inits_fit = model.sample(\n",
    "    data=data_file, inits=vb_vars, iter_warmup=75, seed=12345\n",
    ")"
   ]
  },
  {
   "cell_type": "code",
   "execution_count": 5,
   "metadata": {
    "execution": {
     "iopub.execute_input": "2022-10-25T14:00:14.600214Z",
     "iopub.status.busy": "2022-10-25T14:00:14.599895Z",
     "iopub.status.idle": "2022-10-25T14:00:14.721935Z",
     "shell.execute_reply": "2022-10-25T14:00:14.720920Z"
    }
   },
   "outputs": [
    {
     "data": {
      "text/html": [
       "<div>\n",
       "<style scoped>\n",
       "    .dataframe tbody tr th:only-of-type {\n",
       "        vertical-align: middle;\n",
       "    }\n",
       "\n",
       "    .dataframe tbody tr th {\n",
       "        vertical-align: top;\n",
       "    }\n",
       "\n",
       "    .dataframe thead th {\n",
       "        text-align: right;\n",
       "    }\n",
       "</style>\n",
       "<table border=\"1\" class=\"dataframe\">\n",
       "  <thead>\n",
       "    <tr style=\"text-align: right;\">\n",
       "      <th></th>\n",
       "      <th>Mean</th>\n",
       "      <th>MCSE</th>\n",
       "      <th>StdDev</th>\n",
       "      <th>5%</th>\n",
       "      <th>50%</th>\n",
       "      <th>95%</th>\n",
       "      <th>N_Eff</th>\n",
       "      <th>N_Eff/s</th>\n",
       "      <th>R_hat</th>\n",
       "    </tr>\n",
       "  </thead>\n",
       "  <tbody>\n",
       "    <tr>\n",
       "      <th>lp__</th>\n",
       "      <td>-156.867000</td>\n",
       "      <td>0.056908</td>\n",
       "      <td>1.743290</td>\n",
       "      <td>-160.145000</td>\n",
       "      <td>-156.532000</td>\n",
       "      <td>-154.64600</td>\n",
       "      <td>938.42000</td>\n",
       "      <td>1672.760000</td>\n",
       "      <td>1.001480</td>\n",
       "    </tr>\n",
       "    <tr>\n",
       "      <th>beta[1]</th>\n",
       "      <td>0.999474</td>\n",
       "      <td>0.000014</td>\n",
       "      <td>0.000952</td>\n",
       "      <td>0.997903</td>\n",
       "      <td>0.999461</td>\n",
       "      <td>1.00107</td>\n",
       "      <td>4863.49000</td>\n",
       "      <td>8669.320000</td>\n",
       "      <td>1.000320</td>\n",
       "    </tr>\n",
       "    <tr>\n",
       "      <th>beta[2]</th>\n",
       "      <td>1.000230</td>\n",
       "      <td>0.000018</td>\n",
       "      <td>0.001160</td>\n",
       "      <td>0.998355</td>\n",
       "      <td>1.000210</td>\n",
       "      <td>1.00210</td>\n",
       "      <td>4344.92000</td>\n",
       "      <td>7744.960000</td>\n",
       "      <td>0.999725</td>\n",
       "    </tr>\n",
       "    <tr>\n",
       "      <th>beta[3]</th>\n",
       "      <td>1.000440</td>\n",
       "      <td>0.000014</td>\n",
       "      <td>0.000938</td>\n",
       "      <td>0.998907</td>\n",
       "      <td>1.000430</td>\n",
       "      <td>1.00200</td>\n",
       "      <td>4385.54000</td>\n",
       "      <td>7817.360000</td>\n",
       "      <td>0.999669</td>\n",
       "    </tr>\n",
       "    <tr>\n",
       "      <th>beta[4]</th>\n",
       "      <td>1.001160</td>\n",
       "      <td>0.000016</td>\n",
       "      <td>0.001064</td>\n",
       "      <td>0.999422</td>\n",
       "      <td>1.001150</td>\n",
       "      <td>1.00292</td>\n",
       "      <td>4664.71000</td>\n",
       "      <td>8315.000000</td>\n",
       "      <td>0.999536</td>\n",
       "    </tr>\n",
       "    <tr>\n",
       "      <th>beta[5]</th>\n",
       "      <td>1.001540</td>\n",
       "      <td>0.000015</td>\n",
       "      <td>0.001033</td>\n",
       "      <td>0.999865</td>\n",
       "      <td>1.001540</td>\n",
       "      <td>1.00321</td>\n",
       "      <td>4786.98000</td>\n",
       "      <td>8532.940000</td>\n",
       "      <td>0.999197</td>\n",
       "    </tr>\n",
       "    <tr>\n",
       "      <th>sigma</th>\n",
       "      <td>0.963840</td>\n",
       "      <td>0.004465</td>\n",
       "      <td>0.071505</td>\n",
       "      <td>0.849600</td>\n",
       "      <td>0.961783</td>\n",
       "      <td>1.09259</td>\n",
       "      <td>256.47117</td>\n",
       "      <td>457.167861</td>\n",
       "      <td>1.011019</td>\n",
       "    </tr>\n",
       "  </tbody>\n",
       "</table>\n",
       "</div>"
      ],
      "text/plain": [
       "               Mean      MCSE    StdDev          5%         50%        95%  \\\n",
       "lp__    -156.867000  0.056908  1.743290 -160.145000 -156.532000 -154.64600   \n",
       "beta[1]    0.999474  0.000014  0.000952    0.997903    0.999461    1.00107   \n",
       "beta[2]    1.000230  0.000018  0.001160    0.998355    1.000210    1.00210   \n",
       "beta[3]    1.000440  0.000014  0.000938    0.998907    1.000430    1.00200   \n",
       "beta[4]    1.001160  0.000016  0.001064    0.999422    1.001150    1.00292   \n",
       "beta[5]    1.001540  0.000015  0.001033    0.999865    1.001540    1.00321   \n",
       "sigma      0.963840  0.004465  0.071505    0.849600    0.961783    1.09259   \n",
       "\n",
       "              N_Eff      N_Eff/s     R_hat  \n",
       "lp__      938.42000  1672.760000  1.001480  \n",
       "beta[1]  4863.49000  8669.320000  1.000320  \n",
       "beta[2]  4344.92000  7744.960000  0.999725  \n",
       "beta[3]  4385.54000  7817.360000  0.999669  \n",
       "beta[4]  4664.71000  8315.000000  0.999536  \n",
       "beta[5]  4786.98000  8532.940000  0.999197  \n",
       "sigma     256.47117   457.167861  1.011019  "
      ]
     },
     "execution_count": 5,
     "metadata": {},
     "output_type": "execute_result"
    }
   ],
   "source": [
    "mcmc_vb_inits_fit.summary()"
   ]
  },
  {
   "cell_type": "markdown",
   "metadata": {},
   "source": [
    "The sampler estimates match the reference posterior."
   ]
  },
  {
   "cell_type": "code",
   "execution_count": 6,
   "metadata": {
    "execution": {
     "iopub.execute_input": "2022-10-25T14:00:14.726911Z",
     "iopub.status.busy": "2022-10-25T14:00:14.726419Z",
     "iopub.status.idle": "2022-10-25T14:00:14.804384Z",
     "shell.execute_reply": "2022-10-25T14:00:14.803269Z"
    }
   },
   "outputs": [
    {
     "name": "stdout",
     "output_type": "stream",
     "text": [
      "Processing csv files: /tmp/tmp0t3q4rnl/blrvg9rfjou/blr-20221025140014_1.csv, /tmp/tmp0t3q4rnl/blrvg9rfjou/blr-20221025140014_2.csv, /tmp/tmp0t3q4rnl/blrvg9rfjou/blr-20221025140014_3.csv, /tmp/tmp0t3q4rnl/blrvg9rfjou/blr-20221025140014_4.csv\n",
      "\n",
      "Checking sampler transitions treedepth.\n",
      "Treedepth satisfactory for all transitions.\n",
      "\n",
      "Checking sampler transitions for divergences.\n",
      "No divergent transitions found.\n",
      "\n",
      "Checking E-BFMI - sampler transitions HMC potential energy.\n",
      "E-BFMI satisfactory.\n",
      "\n",
      "Effective sample size satisfactory.\n",
      "\n",
      "Split R-hat values satisfactory all parameters.\n",
      "\n",
      "Processing complete, no problems detected.\n",
      "\n"
     ]
    }
   ],
   "source": [
    "print(mcmc_vb_inits_fit.diagnose())"
   ]
  },
  {
   "cell_type": "markdown",
   "metadata": {},
   "source": [
    "Using the default random parameter initializations, we need to run more warmup iteratons. If we only run 75 warmup iterations with random inits, the result fails to estimate `sigma` correctly.  It is necessary to run the model with at least 150 warmup iterations to produce a good set of estimates."
   ]
  },
  {
   "cell_type": "code",
   "execution_count": 7,
   "metadata": {
    "execution": {
     "iopub.execute_input": "2022-10-25T14:00:14.809039Z",
     "iopub.status.busy": "2022-10-25T14:00:14.808604Z",
     "iopub.status.idle": "2022-10-25T14:00:15.055994Z",
     "shell.execute_reply": "2022-10-25T14:00:15.055049Z"
    }
   },
   "outputs": [
    {
     "name": "stderr",
     "output_type": "stream",
     "text": [
      "14:00:14 - cmdstanpy - INFO - CmdStan start processing\n"
     ]
    },
    {
     "name": "stderr",
     "output_type": "stream",
     "text": [
      "\r",
      "chain 1 |\u001b[33m          \u001b[0m| 00:00 Status"
     ]
    },
    {
     "name": "stderr",
     "output_type": "stream",
     "text": [
      "\n"
     ]
    },
    {
     "name": "stderr",
     "output_type": "stream",
     "text": [
      "\r",
      "chain 2 |\u001b[33m          \u001b[0m| 00:00 Status"
     ]
    },
    {
     "name": "stderr",
     "output_type": "stream",
     "text": [
      "\u001b[A"
     ]
    },
    {
     "name": "stderr",
     "output_type": "stream",
     "text": [
      "\n",
      "\n"
     ]
    },
    {
     "name": "stderr",
     "output_type": "stream",
     "text": [
      "\r",
      "chain 3 |\u001b[33m          \u001b[0m| 00:00 Status"
     ]
    },
    {
     "name": "stderr",
     "output_type": "stream",
     "text": [
      "\u001b[A\u001b[A"
     ]
    },
    {
     "name": "stderr",
     "output_type": "stream",
     "text": [
      "\n",
      "\n",
      "\n"
     ]
    },
    {
     "name": "stderr",
     "output_type": "stream",
     "text": [
      "\r",
      "chain 4 |\u001b[33m          \u001b[0m| 00:00 Status"
     ]
    },
    {
     "name": "stderr",
     "output_type": "stream",
     "text": [
      "\u001b[A\u001b[A\u001b[A"
     ]
    },
    {
     "name": "stderr",
     "output_type": "stream",
     "text": [
      "\n"
     ]
    },
    {
     "name": "stderr",
     "output_type": "stream",
     "text": [
      "\r",
      "chain 2 |\u001b[34m█████▊    \u001b[0m| 00:00 Iteration:  475 / 1075 [ 44%]  (Sampling)"
     ]
    },
    {
     "name": "stderr",
     "output_type": "stream",
     "text": [
      "\u001b[A"
     ]
    },
    {
     "name": "stderr",
     "output_type": "stream",
     "text": [
      "\n",
      "\n",
      "\n"
     ]
    },
    {
     "name": "stderr",
     "output_type": "stream",
     "text": [
      "\r",
      "chain 4 |\u001b[34m█▋        \u001b[0m| 00:00 Iteration:    1 / 1075 [  0%]  (Warmup)"
     ]
    },
    {
     "name": "stderr",
     "output_type": "stream",
     "text": [
      "\u001b[A\u001b[A\u001b[A"
     ]
    },
    {
     "name": "stderr",
     "output_type": "stream",
     "text": [
      "\r",
      "chain 1 |\u001b[34m██████████\u001b[0m| 00:00 Sampling completed"
     ]
    },
    {
     "name": "stderr",
     "output_type": "stream",
     "text": [
      "\r",
      "chain 1 |\u001b[34m██████████\u001b[0m| 00:00 Sampling completed"
     ]
    },
    {
     "name": "stderr",
     "output_type": "stream",
     "text": [
      "\n",
      "\r",
      "chain 2 |\u001b[34m██████████\u001b[0m| 00:00 Sampling completed                       "
     ]
    },
    {
     "name": "stderr",
     "output_type": "stream",
     "text": [
      "\n",
      "\n",
      "\n"
     ]
    },
    {
     "name": "stderr",
     "output_type": "stream",
     "text": [
      "\r",
      "chain 3 |\u001b[34m██████████\u001b[0m| 00:00 Sampling completed"
     ]
    },
    {
     "name": "stderr",
     "output_type": "stream",
     "text": [
      "\u001b[A\u001b[A"
     ]
    },
    {
     "name": "stderr",
     "output_type": "stream",
     "text": [
      "\r",
      "chain 3 |\u001b[34m██████████\u001b[0m| 00:00 Sampling completed"
     ]
    },
    {
     "name": "stderr",
     "output_type": "stream",
     "text": [
      "\n",
      "\r",
      "chain 4 |\u001b[34m██████████\u001b[0m| 00:00 Sampling completed                     "
     ]
    },
    {
     "name": "stdout",
     "output_type": "stream",
     "text": [
      "                                                                                "
     ]
    },
    {
     "name": "stdout",
     "output_type": "stream",
     "text": [
      "                                                                                "
     ]
    },
    {
     "name": "stdout",
     "output_type": "stream",
     "text": [
      "                                                                                "
     ]
    },
    {
     "name": "stdout",
     "output_type": "stream",
     "text": [
      "                                                                                "
     ]
    },
    {
     "name": "stderr",
     "output_type": "stream",
     "text": [
      "\n",
      "14:00:15 - cmdstanpy - INFO - CmdStan done processing.\n"
     ]
    },
    {
     "name": "stderr",
     "output_type": "stream",
     "text": [
      "14:00:15 - cmdstanpy - WARNING - Some chains may have failed to converge.\n",
      "\tChain 1 had 161 divergent transitions (16.1%)\n",
      "\tChain 3 had 147 divergent transitions (14.7%)\n",
      "\tChain 4 had 244 divergent transitions (24.4%)\n",
      "\tUse function \"diagnose()\" to see further information.\n"
     ]
    },
    {
     "name": "stdout",
     "output_type": "stream",
     "text": [
      "\n"
     ]
    }
   ],
   "source": [
    "mcmc_random_inits_fit = model.sample(data=data_file, iter_warmup=75, seed=12345)"
   ]
  },
  {
   "cell_type": "code",
   "execution_count": 8,
   "metadata": {
    "execution": {
     "iopub.execute_input": "2022-10-25T14:00:15.060517Z",
     "iopub.status.busy": "2022-10-25T14:00:15.060151Z",
     "iopub.status.idle": "2022-10-25T14:00:15.167408Z",
     "shell.execute_reply": "2022-10-25T14:00:15.166338Z"
    }
   },
   "outputs": [
    {
     "data": {
      "text/html": [
       "<div>\n",
       "<style scoped>\n",
       "    .dataframe tbody tr th:only-of-type {\n",
       "        vertical-align: middle;\n",
       "    }\n",
       "\n",
       "    .dataframe tbody tr th {\n",
       "        vertical-align: top;\n",
       "    }\n",
       "\n",
       "    .dataframe thead th {\n",
       "        text-align: right;\n",
       "    }\n",
       "</style>\n",
       "<table border=\"1\" class=\"dataframe\">\n",
       "  <thead>\n",
       "    <tr style=\"text-align: right;\">\n",
       "      <th></th>\n",
       "      <th>Mean</th>\n",
       "      <th>MCSE</th>\n",
       "      <th>StdDev</th>\n",
       "      <th>5%</th>\n",
       "      <th>50%</th>\n",
       "      <th>95%</th>\n",
       "      <th>N_Eff</th>\n",
       "      <th>N_Eff/s</th>\n",
       "      <th>R_hat</th>\n",
       "    </tr>\n",
       "  </thead>\n",
       "  <tbody>\n",
       "    <tr>\n",
       "      <th>lp__</th>\n",
       "      <td>-191.333000</td>\n",
       "      <td>24.678800</td>\n",
       "      <td>35.170300</td>\n",
       "      <td>-231.560000</td>\n",
       "      <td>-165.541000</td>\n",
       "      <td>-154.33900</td>\n",
       "      <td>2.03097</td>\n",
       "      <td>9.53509</td>\n",
       "      <td>11.37150</td>\n",
       "    </tr>\n",
       "    <tr>\n",
       "      <th>beta[1]</th>\n",
       "      <td>0.999452</td>\n",
       "      <td>0.000119</td>\n",
       "      <td>0.001816</td>\n",
       "      <td>0.996272</td>\n",
       "      <td>0.999494</td>\n",
       "      <td>1.00252</td>\n",
       "      <td>232.18100</td>\n",
       "      <td>1090.05000</td>\n",
       "      <td>1.01286</td>\n",
       "    </tr>\n",
       "    <tr>\n",
       "      <th>beta[2]</th>\n",
       "      <td>1.000560</td>\n",
       "      <td>0.000229</td>\n",
       "      <td>0.002416</td>\n",
       "      <td>0.996529</td>\n",
       "      <td>1.000410</td>\n",
       "      <td>1.00459</td>\n",
       "      <td>110.88200</td>\n",
       "      <td>520.57400</td>\n",
       "      <td>1.04571</td>\n",
       "    </tr>\n",
       "    <tr>\n",
       "      <th>beta[3]</th>\n",
       "      <td>1.000590</td>\n",
       "      <td>0.000259</td>\n",
       "      <td>0.002043</td>\n",
       "      <td>0.997326</td>\n",
       "      <td>1.000480</td>\n",
       "      <td>1.00442</td>\n",
       "      <td>62.47110</td>\n",
       "      <td>293.29200</td>\n",
       "      <td>1.04607</td>\n",
       "    </tr>\n",
       "    <tr>\n",
       "      <th>beta[4]</th>\n",
       "      <td>1.001380</td>\n",
       "      <td>0.000224</td>\n",
       "      <td>0.002279</td>\n",
       "      <td>0.997013</td>\n",
       "      <td>1.001690</td>\n",
       "      <td>1.00512</td>\n",
       "      <td>103.34500</td>\n",
       "      <td>485.18600</td>\n",
       "      <td>1.09049</td>\n",
       "    </tr>\n",
       "    <tr>\n",
       "      <th>beta[5]</th>\n",
       "      <td>1.001200</td>\n",
       "      <td>0.000150</td>\n",
       "      <td>0.002013</td>\n",
       "      <td>0.997854</td>\n",
       "      <td>1.001290</td>\n",
       "      <td>1.00443</td>\n",
       "      <td>180.70500</td>\n",
       "      <td>848.38100</td>\n",
       "      <td>1.03165</td>\n",
       "    </tr>\n",
       "    <tr>\n",
       "      <th>sigma</th>\n",
       "      <td>1.962000</td>\n",
       "      <td>0.725020</td>\n",
       "      <td>1.034300</td>\n",
       "      <td>0.907470</td>\n",
       "      <td>2.708830</td>\n",
       "      <td>3.17346</td>\n",
       "      <td>2.03514</td>\n",
       "      <td>9.55465</td>\n",
       "      <td>10.50420</td>\n",
       "    </tr>\n",
       "  </tbody>\n",
       "</table>\n",
       "</div>"
      ],
      "text/plain": [
       "               Mean       MCSE     StdDev          5%         50%        95%  \\\n",
       "lp__    -191.333000  24.678800  35.170300 -231.560000 -165.541000 -154.33900   \n",
       "beta[1]    0.999452   0.000119   0.001816    0.996272    0.999494    1.00252   \n",
       "beta[2]    1.000560   0.000229   0.002416    0.996529    1.000410    1.00459   \n",
       "beta[3]    1.000590   0.000259   0.002043    0.997326    1.000480    1.00442   \n",
       "beta[4]    1.001380   0.000224   0.002279    0.997013    1.001690    1.00512   \n",
       "beta[5]    1.001200   0.000150   0.002013    0.997854    1.001290    1.00443   \n",
       "sigma      1.962000   0.725020   1.034300    0.907470    2.708830    3.17346   \n",
       "\n",
       "             N_Eff     N_Eff/s     R_hat  \n",
       "lp__       2.03097     9.53509  11.37150  \n",
       "beta[1]  232.18100  1090.05000   1.01286  \n",
       "beta[2]  110.88200   520.57400   1.04571  \n",
       "beta[3]   62.47110   293.29200   1.04607  \n",
       "beta[4]  103.34500   485.18600   1.09049  \n",
       "beta[5]  180.70500   848.38100   1.03165  \n",
       "sigma      2.03514     9.55465  10.50420  "
      ]
     },
     "execution_count": 8,
     "metadata": {},
     "output_type": "execute_result"
    }
   ],
   "source": [
    "mcmc_random_inits_fit.summary()"
   ]
  },
  {
   "cell_type": "code",
   "execution_count": 9,
   "metadata": {
    "execution": {
     "iopub.execute_input": "2022-10-25T14:00:15.172604Z",
     "iopub.status.busy": "2022-10-25T14:00:15.172102Z",
     "iopub.status.idle": "2022-10-25T14:00:15.247524Z",
     "shell.execute_reply": "2022-10-25T14:00:15.246430Z"
    }
   },
   "outputs": [
    {
     "name": "stdout",
     "output_type": "stream",
     "text": [
      "Processing csv files: /tmp/tmp0t3q4rnl/blr549cam7k/blr-20221025140014_1.csv, /tmp/tmp0t3q4rnl/blr549cam7k/blr-20221025140014_2.csv, /tmp/tmp0t3q4rnl/blr549cam7k/blr-20221025140014_3.csv, /tmp/tmp0t3q4rnl/blr549cam7k/blr-20221025140014_4.csv\n",
      "\n",
      "Checking sampler transitions treedepth.\n",
      "Treedepth satisfactory for all transitions.\n",
      "\n",
      "Checking sampler transitions for divergences.\n",
      "552 of 4000 (13.80%) transitions ended with a divergence.\n",
      "These divergent transitions indicate that HMC is not fully able to explore the posterior distribution.\n",
      "Try increasing adapt delta closer to 1.\n",
      "If this doesn't remove all divergences, try to reparameterize the model.\n",
      "\n",
      "Checking E-BFMI - sampler transitions HMC potential energy.\n",
      "The E-BFMI, 0.01, is below the nominal threshold of 0.30 which suggests that HMC may have trouble exploring the target distribution.\n",
      "If possible, try to reparameterize the model.\n",
      "\n",
      "The following parameters had fewer than 0.001 effective draws per transition:\n",
      "  sigma\n",
      "Such low values indicate that the effective sample size estimators may be biased high and actual performance may be substantially lower than quoted.\n",
      "\n",
      "The following parameters had split R-hat greater than 1.05:\n",
      "  beta[4], sigma\n",
      "Such high values indicate incomplete mixing and biased estimation.\n",
      "You should consider regularizating your model with additional prior information or a more effective parameterization.\n",
      "\n",
      "Processing complete.\n",
      "\n"
     ]
    }
   ],
   "source": [
    "print(mcmc_random_inits_fit.diagnose())"
   ]
  }
 ],
 "metadata": {
  "kernelspec": {
   "display_name": "Python 3",
   "language": "python",
   "name": "python3"
  },
  "language_info": {
   "codemirror_mode": {
    "name": "ipython",
    "version": 3
   },
   "file_extension": ".py",
   "mimetype": "text/x-python",
   "name": "python",
   "nbconvert_exporter": "python",
   "pygments_lexer": "ipython3",
   "version": "3.9.15"
  }
 },
 "nbformat": 4,
 "nbformat_minor": 4
}
